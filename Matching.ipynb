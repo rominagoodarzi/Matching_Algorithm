{
 "cells": [
  {
   "cell_type": "markdown",
   "id": "cebde64b",
   "metadata": {},
   "source": [
    "The stable matching algorithm seeks to solve the problem of finding a stable match between two sets of equal size given a list of preferences for each element.\n",
    "\n",
    "We can define \"matching\" and \"stable\" by the following definitions:\n",
    "\n",
    "-Matching: Mapping from the elements of one set to the elements of another set\n",
    "\n",
    "-Stable: No element A of the first set that prefers an element B of the second set over its current partner such that element B prefers element A over its current partner. \n"
   ]
  },
  {
   "cell_type": "code",
   "execution_count": 8,
   "id": "9d921f1a",
   "metadata": {},
   "outputs": [],
   "source": [
    "import collections"
   ]
  },
  {
   "cell_type": "markdown",
   "id": "a2f33c26",
   "metadata": {},
   "source": [
    "# The women that the men prefer:"
   ]
  },
  {
   "cell_type": "code",
   "execution_count": 9,
   "id": "71bb7cda",
   "metadata": {},
   "outputs": [],
   "source": [
    "preferred_rankings_men = {\n",
    "'ryan':     ['lizzy', 'sarah', 'zoey', 'daniella'],\n",
    "'josh':     ['sarah', 'lizzy', 'daniella', 'zoey'],\n",
    "'blake':    ['sarah', 'daniella', 'zoey', 'lizzy'],\n",
    "'connor':   ['lizzy', 'sarah', 'zoey', 'daniella']\n",
    "}"
   ]
  },
  {
   "cell_type": "markdown",
   "id": "502b6620",
   "metadata": {},
   "source": [
    "# The men that the women prefer:"
   ]
  },
  {
   "cell_type": "code",
   "execution_count": 3,
   "id": "d78b9303",
   "metadata": {},
   "outputs": [],
   "source": [
    "preferred_rankings_women = {\n",
    "'lizzy':    ['ryan', 'blake', 'josh', 'connor'],\n",
    "'sarah':    ['ryan', 'blake', 'connor', 'josh'],\n",
    "'zoey':     ['connor', 'josh', 'ryan', 'blake'],\n",
    "'daniella': ['ryan', 'josh', 'connor', 'blake'] \n",
    "}"
   ]
  },
  {
   "cell_type": "markdown",
   "id": "1986ea23",
   "metadata": {},
   "source": [
    "# Keeps track of the people that 'may' end up together:"
   ]
  },
  {
   "cell_type": "code",
   "execution_count": 4,
   "id": "0a93bf45",
   "metadata": {},
   "outputs": [],
   "source": [
    "tentative_engagements = []"
   ]
  },
  {
   "cell_type": "markdown",
   "id": "c9780c03",
   "metadata": {},
   "source": [
    "# Men who still need to propose and get accepted to go to the dance:"
   ]
  },
  {
   "cell_type": "code",
   "execution_count": 26,
   "id": "346fb3d5",
   "metadata": {},
   "outputs": [],
   "source": [
    "free_men = []"
   ]
  },
  {
   "cell_type": "code",
   "execution_count": 24,
   "id": "34c7f3a3",
   "metadata": {},
   "outputs": [],
   "source": [
    "def init_free_men():\n",
    "           '''Initialize the arrays of women and men to represent \n",
    "                that they're all initially free and not engaged'''\n",
    "           for man in preferred_rankings_men.keys():\n",
    "                   free_men.append(man)"
   ]
  },
  {
   "cell_type": "code",
   "execution_count": 17,
   "id": "aec2b9a1",
   "metadata": {},
   "outputs": [],
   "source": [
    "def begin_matching(man):\n",
    "        '''Find the first free woman available to a man at\n",
    "                any given time'''\n",
    "\n",
    "        print(\"DEALING WITH %s\"%(man))\n",
    "        for woman in preferred_rankings_men[man]:\n",
    "            taken_match = [couple for couple in tentative_engagements if woman in couple]\n",
    "            if (len(taken_match) == 0):\n",
    "                    #tentatively engage the man and woman\n",
    "                    tentative_engagements.append([man, woman])\n",
    "                    free_men.remove(man)\n",
    "                    print('%s is no longer a free man and is now tentatively engaged to %s'%(man, woman))\n",
    "                    break\n",
    "                    \n",
    "            elif (len(taken_match) > 0):\n",
    "                    print('%s is taken already..'%(woman))\n",
    "\n",
    "                    #Check ranking of the current dude and the ranking of the 'to-be' dude\n",
    "                    current_guy = preferred_rankings_women[woman].index(taken_match[0][0])\n",
    "                    potential_guy = preferred_rankings_women[woman].index(man)\n",
    "\n",
    "                    if (current_guy < potential_guy):\n",
    "                            print('She\\'s satisfied with %s..'%(taken_match[0][0]))\n",
    "                    else: \n",
    "                            print('%s is better than %s'%(man, taken_match[0][0]))\n",
    "                            print('Making %s free again.. and tentatively engaging %s and %s'%(taken_match[0][0], man, woman))\n",
    "\n",
    "                            #The new guy is engaged\n",
    "                            free_men.remove(man)\n",
    "\n",
    "                            #The old guy is now single\n",
    "                            free_men.append(taken_match[0][0])\n",
    "\n",
    "                            #Update the fiance of the woman (tentatively)\n",
    "                            taken_match[0][0] = man\n",
    "                            break"
   ]
  },
  {
   "cell_type": "code",
   "execution_count": 21,
   "id": "c897fcdf",
   "metadata": {},
   "outputs": [],
   "source": [
    "def stable_matching():\n",
    "        '''Matching algorithm until stable match terminates'''\n",
    "        while (len(free_men) > 0):\n",
    "                for man in free_men:\n",
    "                        begin_matching(man)"
   ]
  },
  {
   "cell_type": "code",
   "execution_count": 25,
   "id": "91a6ac4f",
   "metadata": {},
   "outputs": [
    {
     "name": "stdout",
     "output_type": "stream",
     "text": [
      "['ryan', 'josh', 'blake', 'connor']\n",
      "DEALING WITH ryan\n",
      "ryan is no longer a free man and is now tentatively engaged to lizzy\n",
      "DEALING WITH blake\n",
      "blake is no longer a free man and is now tentatively engaged to sarah\n",
      "DEALING WITH josh\n",
      "sarah is taken already..\n",
      "She's satisfied with blake..\n",
      "lizzy is taken already..\n",
      "She's satisfied with ryan..\n",
      "josh is no longer a free man and is now tentatively engaged to daniella\n",
      "DEALING WITH connor\n",
      "lizzy is taken already..\n",
      "She's satisfied with ryan..\n",
      "sarah is taken already..\n",
      "She's satisfied with blake..\n",
      "connor is no longer a free man and is now tentatively engaged to zoey\n",
      "[['ryan', 'lizzy'], ['blake', 'sarah'], ['josh', 'daniella'], ['connor', 'zoey']]\n"
     ]
    }
   ],
   "source": [
    "def main():\n",
    "        init_free_men()\n",
    "        print(free_men)\n",
    "        stable_matching()\n",
    "        print(tentative_engagements)\n",
    "main()"
   ]
  }
 ],
 "metadata": {
  "kernelspec": {
   "display_name": "Python 3 (ipykernel)",
   "language": "python",
   "name": "python3"
  },
  "language_info": {
   "codemirror_mode": {
    "name": "ipython",
    "version": 3
   },
   "file_extension": ".py",
   "mimetype": "text/x-python",
   "name": "python",
   "nbconvert_exporter": "python",
   "pygments_lexer": "ipython3",
   "version": "3.11.3"
  }
 },
 "nbformat": 4,
 "nbformat_minor": 5
}
